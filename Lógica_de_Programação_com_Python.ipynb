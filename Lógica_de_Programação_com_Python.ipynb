{
  "nbformat": 4,
  "nbformat_minor": 0,
  "metadata": {
    "colab": {
      "provenance": [],
      "include_colab_link": true
    },
    "kernelspec": {
      "name": "python3",
      "display_name": "Python 3"
    }
  },
  "cells": [
    {
      "cell_type": "markdown",
      "metadata": {
        "id": "view-in-github",
        "colab_type": "text"
      },
      "source": [
        "<a href=\"https://colab.research.google.com/github/lohansilva/workshop-logica-de-programacao/blob/main/L%C3%B3gica_de_Programa%C3%A7%C3%A3o_com_Python.ipynb\" target=\"_parent\"><img src=\"https://colab.research.google.com/assets/colab-badge.svg\" alt=\"Open In Colab\"/></a>"
      ]
    },
    {
      "cell_type": "markdown",
      "metadata": {
        "id": "K4dvykVv1yR0"
      },
      "source": [
        "# LÓGICA DE PROGRAMAÇÃO - COM PYTHON\n",
        "\n",
        "### INSTRUTOR: LOHAN SILVA\n",
        "\n",
        "### MATERIAL BASEADO DO CANAL PROGRAMAÇÃO DINAMICA: https://www.youtube.com/c/Programa%C3%A7%C3%A3oDin%C3%A2mica\n",
        "\n",
        "\n"
      ]
    },
    {
      "cell_type": "markdown",
      "metadata": {
        "id": "1UxvDyK1KL0W"
      },
      "source": [
        "### 0. Tradição \"Olá Mundo\""
      ]
    },
    {
      "cell_type": "code",
      "metadata": {
        "id": "2T4SuWR0JN60"
      },
      "source": [
        "print(\"Olá Mundo\")\n"
      ],
      "execution_count": null,
      "outputs": []
    },
    {
      "cell_type": "code",
      "source": [
        "from google.colab import drive\n",
        "drive.mount('/content/drive')"
      ],
      "metadata": {
        "id": "nReagnrDaY9v"
      },
      "execution_count": null,
      "outputs": []
    },
    {
      "cell_type": "markdown",
      "metadata": {
        "id": "5dpvWExwKbGG"
      },
      "source": []
    },
    {
      "cell_type": "markdown",
      "metadata": {
        "id": "p4d8BRSXKRQn"
      },
      "source": [
        "## 1. Variáveis, constantes e Tipos de Dados\n"
      ]
    },
    {
      "cell_type": "code",
      "source": [
        "curso = \"Logica de programação\"\n",
        "idade_Lohan = 23\n",
        "valor_dolar = 5.47"
      ],
      "metadata": {
        "id": "zXhFFdOt9b50"
      },
      "execution_count": null,
      "outputs": []
    },
    {
      "cell_type": "code",
      "source": [
        "PI = 3.14\n",
        "DEBUG = True\n",
        "AMOUNT = 30.2\n"
      ],
      "metadata": {
        "id": "bkyWqRtgjpS1"
      },
      "execution_count": null,
      "outputs": []
    },
    {
      "cell_type": "code",
      "metadata": {
        "id": "ShKC7mIrNYxE"
      },
      "source": [
        "# String (texto)\n",
        "curso = \"Introdução ao Wordpress\"\n",
        "\n",
        "# Inteiro (integer, int)\n",
        "duracao = 85\n",
        "\n",
        "# Ponto flutuante (float)\n",
        "preco = 68.99\n",
        "\n",
        "# Booleano (bool)\n",
        "gratuito = False "
      ],
      "execution_count": null,
      "outputs": []
    },
    {
      "cell_type": "code",
      "metadata": {
        "id": "iEzHw_KIOgL_"
      },
      "source": [
        "print(curso)\n",
        "print(duracao)\n",
        "print(preco)"
      ],
      "execution_count": null,
      "outputs": []
    },
    {
      "cell_type": "code",
      "metadata": {
        "id": "3zfbAFoxQDC2"
      },
      "source": [
        "type(duracao)"
      ],
      "execution_count": null,
      "outputs": []
    },
    {
      "cell_type": "markdown",
      "source": [
        "## Boas práticas de programação\n",
        "- O padrão de nomes deve ser snake case\n",
        "- Escolher nomes sugestivos\n",
        "- Nome de constantes todo em maiúsculo."
      ],
      "metadata": {
        "id": "ovqhlttwjGcJ"
      }
    },
    {
      "cell_type": "markdown",
      "source": [
        "## Operadores aritméticos"
      ],
      "metadata": {
        "id": "zYOKTILGnKRH"
      }
    },
    {
      "cell_type": "code",
      "source": [
        "# soma\n",
        "print(1 + 1)\n",
        "\n",
        "# subtração\n",
        "print(5 - 3)\n",
        "\n",
        "# multiplicação\n",
        "print(6 * 6)\n",
        "\n",
        "# divisão\n",
        "print(12 / 3)\n",
        "\n",
        "# divisão inteira\n",
        "print(12 // 2)\n",
        "\n",
        "# módulo\n",
        "print(10 % 3)\n",
        "\n",
        "# exponenciação\n",
        "print(2 ** 3)\n"
      ],
      "metadata": {
        "id": "k6kXdRyYnQBX"
      },
      "execution_count": null,
      "outputs": []
    },
    {
      "cell_type": "markdown",
      "source": [
        "## Operadores de comparação"
      ],
      "metadata": {
        "id": "Lk3rsvyosAHW"
      }
    },
    {
      "cell_type": "code",
      "source": [
        "# declarando variaveis saldo e saque para o exemplo\n",
        "saldo = 450\n",
        "saque = 200\n",
        "\n",
        "# Igualdade\n",
        "print(saldo == saque)\n",
        "\n",
        "# diferença\n",
        "print(saldo != saque)\n",
        "\n",
        "# maior que/maior ou igual\n",
        "print(saldo > saque)\n",
        "print(saldo >= saque)\n",
        "\n",
        "# menor que/menor ou igual\n",
        "print(saldo < saque)\n",
        "print(saldo <= saque )\n"
      ],
      "metadata": {
        "id": "1AugE5nLsEo2"
      },
      "execution_count": null,
      "outputs": []
    },
    {
      "cell_type": "markdown",
      "source": [
        "## Operadores Lógicos"
      ],
      "metadata": {
        "id": "bnssvDbeI1b8"
      }
    },
    {
      "cell_type": "code",
      "source": [
        "saldo = 1000\n",
        "saque = 200\n",
        "limite = 100\n",
        "\n",
        "# Operador E (and)\n",
        "operador_E = saldo >= saque and saque <= limite\n",
        "# Operado OU (or)\n",
        "operador_Ou = saldo >= saque or saque <= limite\n",
        "# Operador de negação\n",
        "menor = not 1000 > 1500\n",
        "\n",
        "print(operador_E, operador_Ou, menor)"
      ],
      "metadata": {
        "colab": {
          "base_uri": "https://localhost:8080/"
        },
        "id": "V7LSGWukJYlv",
        "outputId": "207c0d1c-297e-4372-8646-54d60acb7f09"
      },
      "execution_count": null,
      "outputs": [
        {
          "output_type": "stream",
          "name": "stdout",
          "text": [
            "False True True\n"
          ]
        }
      ]
    },
    {
      "cell_type": "markdown",
      "source": [
        "# Operadores de identidade"
      ],
      "metadata": {
        "id": "c_mPK9v8M8YS"
      }
    },
    {
      "cell_type": "code",
      "source": [
        "curso = \"Curso de Python\"\n",
        "nome_curso = curso\n",
        "saldo, limite = 200, 200\n",
        "\n",
        "print(curso is nome_curso)\n",
        "print(curso is not nome_curso)\n",
        "print(saldo is limite)"
      ],
      "metadata": {
        "colab": {
          "base_uri": "https://localhost:8080/"
        },
        "id": "LUnMZR4vM_co",
        "outputId": "869c5a12-ea01-4310-ea60-79e7aaefa133"
      },
      "execution_count": null,
      "outputs": [
        {
          "output_type": "stream",
          "name": "stdout",
          "text": [
            "True\n",
            "False\n",
            "True\n"
          ]
        }
      ]
    },
    {
      "cell_type": "markdown",
      "source": [
        "## Operadores de associação"
      ],
      "metadata": {
        "id": "jdCbfyI8PAQy"
      }
    },
    {
      "cell_type": "code",
      "source": [
        "curso = \"Curso de Python\"\n",
        "frutas = [\"laranja\", \"uva\", \"limão\"]\n",
        "saques = [1500, 100]\n",
        "\n",
        "print(\"Python\" in curso)\n",
        "print(\"maçã\" not in frutas)\n",
        "print(200 in saques)"
      ],
      "metadata": {
        "colab": {
          "base_uri": "https://localhost:8080/"
        },
        "id": "BgOOs6MuPDZY",
        "outputId": "9df1c34d-28e5-46e7-d2c0-bceed466d2dc"
      },
      "execution_count": null,
      "outputs": [
        {
          "output_type": "stream",
          "name": "stdout",
          "text": [
            "True\n",
            "True\n",
            "False\n"
          ]
        }
      ]
    },
    {
      "cell_type": "markdown",
      "metadata": {
        "id": "ZY9yChBvRXl5"
      },
      "source": [
        "#### Exercícios"
      ]
    },
    {
      "cell_type": "code",
      "metadata": {
        "id": "pt3GyJq0RcfD"
      },
      "source": [
        "# I) Qual o tipo de dado de:\n",
        "valor = \"97.50\"\n",
        "tempo = 55.0 \n",
        "\n",
        "valor = float(valor)\n",
        "type(valor)"
      ],
      "execution_count": null,
      "outputs": []
    },
    {
      "cell_type": "code",
      "metadata": {
        "id": "-TCubVS6SIvK"
      },
      "source": [
        "# II) Observe os resultados das operações a seguir. Consegue interpretá-los?\n",
        "print(valor + 20)\n",
        "print(f\"O valor é R$ {valor}\")\n",
        "print(42 + tempo)\n",
        "\n"
      ],
      "execution_count": null,
      "outputs": []
    },
    {
      "cell_type": "markdown",
      "metadata": {
        "id": "m2Vsgm-CUupX"
      },
      "source": [
        "#### **Materiais complementares:**\n",
        "– Conhecendo os tipos de dados em Python: https://youtu.be/EosATvOIHEs\n",
        "\n",
        "– Operações com números: https://youtu.be/hysCU5CWl80\n",
        "\n",
        "– Comparando números: https://youtu.be/pB0UeU7SIo0"
      ]
    },
    {
      "cell_type": "markdown",
      "metadata": {
        "id": "sqmYUvIqVJAR"
      },
      "source": [
        "## 2. Decisão - **if** e **else**"
      ]
    },
    {
      "cell_type": "code",
      "metadata": {
        "id": "w_VLD6ZBWmnR"
      },
      "source": [
        "#suponha que recebemos um email oferecendo vários cursos e queremos demonstrar o\n",
        "#nivel de interesse dependendo do preço\n",
        "\n",
        "\n",
        "gratuito = False\n",
        "preço = 300.00\n",
        "\n",
        "if gratuito:\n",
        "  print(\"Legal, quero aprender agora!\")\n",
        "elif preço <= 100.00:\n",
        "  print(\"Quero comprar!\")\n",
        "elif preço < 250:\n",
        "  print(\"Deixa eu pensar uns 5 minutinhos\")\n",
        "else:\n",
        "  print(\"Quem sabe no futuro, agora não posso!\")"
      ],
      "execution_count": null,
      "outputs": []
    },
    {
      "cell_type": "markdown",
      "metadata": {
        "id": "ESnoJ_7NcyK4"
      },
      "source": [
        "#### **Exercícios**\n",
        "III. Faça um programa que exiba se um número é par ou ímpar\n",
        "IV. Faça um programa que responde se uma pessoa pode votar, é obrigada a votar, ou não pode votar, apenas baseando-se em sua idade\n",
        "\n",
        "#### **Materiais complementares:**\n",
        "- Analisando Condições em Python https://youtu.be/HquOtDNB608\n",
        "- Estruturas de condição em Python https://www.devmedia.com.br/estruturas-de-condicao-em-python/37158"
      ]
    },
    {
      "cell_type": "code",
      "source": [
        "numero = 5\n",
        "\n",
        "par = numero%2==0\n",
        "\n",
        "if par:\n",
        "  print(f\"O {numero} é par\")\n",
        "else:\n",
        "  print(f\"O {numero} é impar\")"
      ],
      "metadata": {
        "id": "LelZA3WFIxjs"
      },
      "execution_count": null,
      "outputs": []
    },
    {
      "cell_type": "code",
      "source": [],
      "metadata": {
        "id": "gOkwW-L-D1WQ"
      },
      "execution_count": null,
      "outputs": []
    },
    {
      "cell_type": "markdown",
      "metadata": {
        "id": "yQDpmY4KbFqI"
      },
      "source": [
        "## 3. Entrada e Saída de Dados"
      ]
    },
    {
      "cell_type": "code",
      "metadata": {
        "id": "mW1f0FPmfnWg"
      },
      "source": [
        "valor = input(\"Informe um valor: \")\n",
        "print(f\"O valor informado foi: {valor}\")"
      ],
      "execution_count": null,
      "outputs": []
    },
    {
      "cell_type": "code",
      "source": [
        "nome = input(\"Informe o seu nome: \")\n",
        "curso_agora = input(\"Qual o seu curso?\")\n",
        "print(f\"Olá, {nome}. Seja bem vindo ao curso de {curso_agora}\")"
      ],
      "metadata": {
        "id": "QQt5YeKkIOxp"
      },
      "execution_count": null,
      "outputs": []
    },
    {
      "cell_type": "code",
      "metadata": {
        "id": "ltj8W6PNiihI"
      },
      "source": [
        "preço_barato = input(\"Qual seria o preço ideal para você?\")\n",
        "print(f\"Tipo antigo: {type(preço_barato)}\")\n",
        "preço_barato = float(preço_barato)\n",
        "print(f\"Tipo novo: {type(preço_barato)}\" )"
      ],
      "execution_count": null,
      "outputs": []
    },
    {
      "cell_type": "code",
      "metadata": {
        "id": "vU_ZBcycjtLR"
      },
      "source": [
        "gratuito = True\n",
        "preço = 150.00\n",
        "\n",
        "preço_barato = float(input(\"Qual seria o preço ideal para você?\"))\n",
        "preço_razoavel = float(input(\"E um preço razoável?\"))\n",
        "\n",
        "if gratuito:\n",
        "  print(\"Legal, quero aprender agora!\")\n",
        "elif preço <= preço_barato:\n",
        "  print(\"Quero comprar!\")\n",
        "elif preço < preço_razoavel:\n",
        "  print(\"Deixa eu pensar uns 5 minutinhos\")\n",
        "else:\n",
        "  print(\"Quem sabe no futuro, agora não posso!\")"
      ],
      "execution_count": null,
      "outputs": []
    },
    {
      "cell_type": "markdown",
      "metadata": {
        "id": "_YCCYCzRln9D"
      },
      "source": [
        "#### **Exercícios**\n",
        "V. Faça um programa que simula uma partida de \"Pedra, Papel e Tesoura\". Receba duas entradas - as escolhas de cada jogador - e exiba o resultado da partida como o exemplo:\n",
        "\n",
        "Jogador 1: \"pedra\"\n",
        "Jogador 2: \"tesoura\"\n",
        "\n",
        "\n",
        "\"tesoura vence pedra. Vitória do jogador 2!\""
      ]
    },
    {
      "cell_type": "code",
      "source": [
        "#entradas jogador 1 e jogador 2\n",
        "print(\"Bem vindo ao jogo de pedra, papel e tesoura! Escolha PEDRA, PAPEL ou TESOURA.\")\n",
        "jogador1 = input(\"Jogador 1 informe a sua jogada: \")\n",
        "jogador2 = input(\"Jogador 2 informe a sua jogada: \")\n",
        "#imprimir jogadas\n",
        "print(f\"Jogador 1: {jogador1}\")\n",
        "print(f\"Jogador 2: {jogador2}\")\n",
        "#fazer condição\n",
        "if jogador1 == \"PEDRA\":\n",
        "  if jogador2 == \"PEDRA\":\n",
        "    print(\"Empate\")\n",
        "  elif jogador2 == \"TESOURA\":\n",
        "    print(\"Jogador 1 venceu\")\n",
        "  elif jogador2 == \"PAPEL\":\n",
        "    print(\"Jogador 2 vence\")\n",
        "  else:\n",
        "    print(\"Jogada inválida!\")\n",
        "\n",
        "elif jogador1 == \"PAPEL\":\n",
        "  if jogador2 == \"PEDRA\":\n",
        "    print(\"Jogador 1 venceu\")\n",
        "  elif jogador2 == \"TESOURA\":\n",
        "    print(\"Jogador 2 venceu\")\n",
        "  elif jogador2 == \"PAPEL\":\n",
        "    print(\"Empate\")\n",
        "  else:\n",
        "    print(\"Jogada inválida!\")\n",
        "\n",
        "elif jogador1 == \"TESOURA\":\n",
        "  if jogador2 == \"PEDRA\":\n",
        "    print(\"Jogador 1 venceu\")\n",
        "  elif jogador2 == \"TESOURA\":\n",
        "    print(\"Jogador 2 venceu\")\n",
        "  elif jogador2 == \"PAPEL\":\n",
        "    print(\"Empate\")\n",
        "  else:\n",
        "    print(\"Jogada inválida!\")\n"
      ],
      "metadata": {
        "id": "JCQbHdfNL3qY"
      },
      "execution_count": null,
      "outputs": []
    },
    {
      "cell_type": "code",
      "source": [
        "jogada1 = input()\n",
        "jogada2 = input()\n",
        "#Resultado das jogadas\n",
        "if (jogada1==jogada2):\n",
        "  print(\"A partida empatou!\")\n",
        "elif (jogada1==\"pedra\") and (jogada2==\"papel\"):\n",
        "  print(\"Jogador 2 venceu!\")\n",
        "elif (jogada1==\"pedra\") and (jogada2==\"tesoura\"):\n",
        "  print(\"Jogador 1 venceu!\")\n",
        "elif (jogada1==\"papel\") and (jogada2==\"pedra\"):\n",
        "  print(\"Jogador 1 venceu!\")\n",
        "elif (jogada1==\"papel\") and (jogada2==\"tesoura\"):\n",
        "  print(\"Jogador 2 venceu!\")\n",
        "elif (jogada1==\"tesoura\") and (jogada2==\"pedra\"):\n",
        "  print(\"Jogador 2 venceu!\")\n",
        "elif (jogada1==\"tesoura\") and (jogada2==\"papel\"):\n",
        "  print(\"Jogador 1 venceu!\")"
      ],
      "metadata": {
        "id": "bGiU89KddvCe"
      },
      "execution_count": null,
      "outputs": []
    },
    {
      "cell_type": "markdown",
      "metadata": {
        "id": "vBUvYLQGlRDF"
      },
      "source": [
        "## 4. Listas"
      ]
    },
    {
      "cell_type": "code",
      "metadata": {
        "id": "VAI_rbwynouj"
      },
      "source": [
        "cursos = [\"Introdução ao Wordpress\", \n",
        "          \"Criador de Sites\", \n",
        "          \"Afiliado de Sucesso\",\n",
        "          \"Introdução ao Google Ads\",\n",
        "          \"E-commerce e Vendas Online\",\n",
        "          \"Desenvolvimento de Plugins para Wordpress\"]\n",
        "\n",
        "        "
      ],
      "execution_count": null,
      "outputs": []
    },
    {
      "cell_type": "code",
      "source": [
        "print(cursos[-2])"
      ],
      "metadata": {
        "id": "Nz0Ke9b1gPpq"
      },
      "execution_count": null,
      "outputs": []
    },
    {
      "cell_type": "code",
      "metadata": {
        "id": "x_oXNDHVzStY"
      },
      "source": [
        "print(cursos)\n",
        "print(f\"A lista de cursos tem {len(cursos)} cursos\" )"
      ],
      "execution_count": null,
      "outputs": []
    },
    {
      "cell_type": "code",
      "source": [
        "meses = [\"janeiro\", \"fevereiro\", \"março\"]\n",
        "print(meses[0])\n",
        "print(meses[1])\n",
        "print(meses[2])"
      ],
      "metadata": {
        "id": "OtsC7MHehTMv"
      },
      "execution_count": null,
      "outputs": []
    },
    {
      "cell_type": "code",
      "metadata": {
        "id": "-8EONj8c1CjT"
      },
      "source": [
        "indice = int(input('Digite um número:\\n'))\n",
        "if indice < len(cursos):\n",
        "  # estamos seguros\n",
        "  print(f'O curso no índice {indice} é o \"{cursos[indice]}\"')\n",
        "else:\n",
        "  print(f\"O índice {indice} não é válido\")"
      ],
      "execution_count": null,
      "outputs": []
    },
    {
      "cell_type": "markdown",
      "metadata": {
        "id": "DzeyP8Gr3SdL"
      },
      "source": [
        "#### **Materiais Complementares**\n",
        "– Listas em Python: https://youtu.be/Mjl1O9ANFrI\n",
        "\n",
        "#### **Exercícios**\n",
        "VI) Experimente criar uma lista com elementos de tipos de dados diferentes. Funciona?\n",
        "VII) Experimente usar índices negativos para acessar elementos da lista, por exemplo:\n",
        "  \n",
        "  ```python\n",
        "  cursos[-1] \n",
        "  ```\n",
        "\n",
        "O que aconteceu?\n",
        "\n",
        "VIII) Será que é possível alterar uma lista depois de criada? Experimente o seguinte: \n",
        "\n",
        "  ```python\n",
        "  cursos.append(\"Lógica de Programação\")\n",
        "  ```\n",
        "\n",
        "Depois disso, exiba o tamanho da lista. O que aconteceu?"
      ]
    },
    {
      "cell_type": "markdown",
      "metadata": {
        "id": "n-Vdz9y44xOL"
      },
      "source": [
        "## 5 Repetições - for"
      ]
    },
    {
      "cell_type": "code",
      "source": [
        "lista_meses = ['Janeiro', 'Fevereiro', 'Março', 'Abril', 'Maio', 'Junho'] \n",
        "\n",
        "for mes in lista_meses:\n",
        "  print(mes)"
      ],
      "metadata": {
        "id": "eVTPAsjNONxR"
      },
      "execution_count": null,
      "outputs": []
    },
    {
      "cell_type": "code",
      "source": [
        "listas_semanas = [\"Segunda\", \"Terça\", \"Quarta\"]\n",
        "\n",
        "for dia in listas_semanas:\n",
        "  print(dia) "
      ],
      "metadata": {
        "id": "PW_rne9FinWb"
      },
      "execution_count": null,
      "outputs": []
    },
    {
      "cell_type": "code",
      "metadata": {
        "id": "MV2PRdDq41XJ"
      },
      "source": [
        "cursos = [\"Introdução ao Wordpress\", \n",
        "          \"Criador de Sites\", \n",
        "          \"Afiliado de Sucesso\",\n",
        "          \"Introdução ao Google Ads\",\n",
        "          \"E-commerce e Vendas Online\",\n",
        "          \"Desenvolvimento de Plugins para Wordpress\"]\n",
        "\n",
        "for curso in cursos:\n",
        "  print(curso)"
      ],
      "execution_count": null,
      "outputs": []
    },
    {
      "cell_type": "code",
      "metadata": {
        "id": "jjqnm9Dg8WW-"
      },
      "source": [
        "for i in range(len(cursos)):\n",
        "  print(cursos[i])"
      ],
      "execution_count": null,
      "outputs": []
    },
    {
      "cell_type": "code",
      "metadata": {
        "id": "tF4oqLxF9Pk7"
      },
      "source": [
        "i = 0\n",
        "while i < len(cursos):\n",
        "  print(cursos[i])\n",
        "  i = i + 1"
      ],
      "execution_count": null,
      "outputs": []
    },
    {
      "cell_type": "markdown",
      "metadata": {
        "id": "mrKudvkwCMl7"
      },
      "source": [
        "#### **Materiais Complementares**\n",
        "– Repetições em Python I - Iterações definidas: https://youtu.be/H3uppJ2XU9Y\n",
        "\n",
        "– Repetições em Python I - Iterações condicionais: https://youtu.be/3nkdjBE3Xlo\n",
        "\n",
        "– Strings e Criptografia: https://youtu.be/COtUf6E5U3M"
      ]
    },
    {
      "cell_type": "markdown",
      "source": [
        "### **Exercício extra**:\n",
        "\n",
        "1) Dado uma coleção de idades, faça a soma de todos os valores e informe a média da coleção\n",
        "2) Dados 4 notas de uma aluno, informe a media das notas e a situação do aluno segundo as informações abaixo:\n",
        "Aprovado: media da nota maior que 7\n",
        "Recuperação: entre 5 e 6.9\n",
        "Reprovado: media menor que 5"
      ],
      "metadata": {
        "id": "ijc0akiQ0xVE"
      }
    },
    {
      "cell_type": "code",
      "source": [
        "lista_idades = [22, 23, 54, 30]\n",
        "\n",
        "soma_idade = 0\n",
        "for idade in lista_idades:\n",
        "  soma_idade = soma_idade + idade\n",
        "print(soma_idade)\n",
        "media_idade = soma_idade/len(lista_idades)\n",
        "\n",
        "print(media_idade)\n"
      ],
      "metadata": {
        "id": "UlKHAtZW0ycF"
      },
      "execution_count": null,
      "outputs": []
    },
    {
      "cell_type": "markdown",
      "source": [
        "## Projeto Prático\n",
        "Receber arquivos em excel de janeiro a junho com informações separadas em duas colunas \"Vendedor\" e outra \"Vendas\". Verificar quem foi o vendedor que bateu a meta de R$ 55.000,00 e em que mês.\n",
        "\n",
        "Vídeo de referência do Projeto - https://www.youtube.com/watch?v=5zr9HWWs8nI"
      ],
      "metadata": {
        "id": "WAB45JnmUArk"
      }
    },
    {
      "cell_type": "code",
      "source": [
        "pip install twilio"
      ],
      "metadata": {
        "id": "Ruj0ognyRlh2"
      },
      "execution_count": null,
      "outputs": []
    },
    {
      "cell_type": "code",
      "source": [
        "import pandas as pd\n",
        "from twilio.rest import Client\n",
        "\n",
        "# Your Account SID from twilio.com/console\n",
        "account_sid = \"ACcf04532fbfd3fc836c6fc9c07dd5cb5f\"\n",
        "# Your Auth Token from twilio.com/console\n",
        "auth_token  = \"a0a724abe3c7fe8f7e8a31136d53441e\"\n",
        "client = Client(account_sid, auth_token)\n",
        "\n",
        "# Abrir os 6 arquivos em Excel\n",
        "lista_meses = ['janeiro', 'fevereiro', 'março', 'abril', 'maio', 'junho']\n",
        "\n",
        "for mes in lista_meses:\n",
        "    tabela_vendas = pd.read_excel(f'/content/drive/MyDrive/LogicaProgramacao/{mes}.xlsx')\n",
        "    if (tabela_vendas['Vendas'] > 55000).any():\n",
        "        vendedor = tabela_vendas.loc[tabela_vendas['Vendas'] > 55000, 'Vendedor'].values[0]\n",
        "        vendas = tabela_vendas.loc[tabela_vendas['Vendas'] > 55000, 'Vendas'].values[0]\n",
        "        print(f'No mês {mes} alguém bateu a meta. Vendedor: {vendedor}, Vendas: {vendas}')\n",
        "        message = client.messages.create(\n",
        "            to=\"+5592992949343\",\n",
        "            from_=\"+18592955242\",\n",
        "            body=f'No mês {mes} alguém bateu a meta. Vendedor: {vendedor}, Vendas: {vendas}')\n",
        "        print(message.sid)\n",
        "\n",
        "\n",
        "\n",
        "\n",
        "\n",
        "# Para cada arquivo:\n",
        "\n",
        "# Verificar se algum valor na coluna Vendas daquele arquivo é maior que 55.000\n",
        "\n",
        "# Se for maior do que 55.000 -> Envia um SMS com o Nome, o mês e as vendas do vendedor\n",
        "\n",
        "# Caso não seja maior do que 55.000 não quero fazer nada\n"
      ],
      "metadata": {
        "id": "2s-O22vtOwb0"
      },
      "execution_count": null,
      "outputs": []
    },
    {
      "cell_type": "markdown",
      "source": [],
      "metadata": {
        "id": "DRcLXCKBUY5h"
      }
    },
    {
      "cell_type": "markdown",
      "metadata": {
        "id": "pb0U_OJRycwS"
      },
      "source": [
        "# Projeto Final: \n",
        "# Sistema de Recomendação de Cursos\n"
      ]
    },
    {
      "cell_type": "markdown",
      "metadata": {
        "id": "XcAI2wXlyrUV"
      },
      "source": [
        "### Objetivo:\n",
        "Projetar e implementar uma interface que receba informações sobre os interesses de um estudante e recomende-lhe os cursos do CollabPlay que sejam mais adequados ao seu perfil."
      ]
    },
    {
      "cell_type": "markdown",
      "metadata": {
        "id": "trRu5012M4-q"
      },
      "source": [
        "#### Implementando a interface dos pedidos"
      ]
    },
    {
      "cell_type": "code",
      "metadata": {
        "id": "RmJwWGlFzUqm"
      },
      "source": [
        "# Código aqui\n",
        "nome = input(\"Como gostaria de ser chamado(a)\")\n",
        "categorias = [\"Wordpress\",\n",
        "              \"Criação de Site\",\n",
        "              \"E-commerce\",\n",
        "              \"Marketing Digital\",\n",
        "              \"Vendas\",\n",
        "              \"Google Ads\",\n",
        "              \"Design\",\n",
        "              \"Negócios\",\n",
        "              \"Youtube\",\n",
        "              \"Criação de Conteúdo\",\n",
        "              \"Programação\"]\n",
        "\n",
        "for i in range(len(categorias)):\n",
        "  # equivalente a usar enumerate\n",
        "  print(f\"{i}. {categorias[i]}\")\n",
        "\n",
        "num_das_categorias = input(\n",
        "    \"Digite o número dos assuntos de seu interesse (use vírgulas):\\n\"\n",
        "    )\n",
        "\n",
        "# TODO: resolver problema num_das_categorias = \"10, 8\"\n",
        "\n",
        "tempo = float(input(\"Quanto tempo gostaria de estudar? (min)\\n\"))\n",
        "\n",
        "mostrar_premium = input(\"Mostrar cursos Premium (S/N)?\")\n"
      ],
      "execution_count": null,
      "outputs": []
    },
    {
      "cell_type": "markdown",
      "metadata": {
        "id": "iF8aGDX9MwuC"
      },
      "source": [
        "#### Resolvendo problemas com tipos de dados"
      ]
    },
    {
      "cell_type": "code",
      "metadata": {
        "id": "73tnss8UI84F"
      },
      "source": [
        "print(type(nome))\n",
        "print(type(num_das_categorias))\n",
        "print(type(tempo))\n",
        "print(type(mostrar_premium))\n",
        "\n",
        "if mostrar_premium == \"N\" or mostrar_premium == \"n\":\n",
        "  mostrar_premium = False\n",
        "else:\n",
        "  mostrar_premium = True\n",
        "\n",
        "num_das_categorias = num_das_categorias.split(\",\")\n",
        "ncategorias = []\n",
        "for elemento in num_das_categorias:\n",
        "  numero = int(elemento.strip())\n",
        "  ncategorias.append(numero)\n",
        "\n",
        "print(ncategorias)"
      ],
      "execution_count": null,
      "outputs": []
    },
    {
      "cell_type": "code",
      "metadata": {
        "id": "I6qegfucKj5W"
      },
      "source": [
        "print(f\"Nome: {nome}\")\n",
        "print(f\"ID das Categorias: {ncategorias}\")\n",
        "print(f\"Tempo: {tempo}\")\n",
        "print(f\"Mostrar Premium?: {mostrar_premium}\")"
      ],
      "execution_count": null,
      "outputs": []
    },
    {
      "cell_type": "markdown",
      "metadata": {
        "id": "qGKc7Y_lM_d0"
      },
      "source": [
        "#### Analisando o perfil de interesses"
      ]
    },
    {
      "cell_type": "code",
      "metadata": {
        "id": "JuOltPtmN9Yh"
      },
      "source": [
        "# Colunas da tabela na forma de listas\n",
        "cursos = [\"Introdução ao Wordpress\",\n",
        "          \"Criador de Sites\",\n",
        "          \"Introdução ao WooCommerce\",\n",
        "          \"Afiliado de Sucesso\",\n",
        "          \"Venda mais com WhatsApp Business e Google Meu Negócio\",\n",
        "          \"Introdução ao Google Ads\",\n",
        "          \"E-commerce e Vendas Online\",\n",
        "          \"Canva: Design Fácil para Empreendedores\",\n",
        "          \"Youtube para Iniciantes: como criar e crescer o seu canal\",\n",
        "          \"Rede de Display e Youtube\",\n",
        "          \"Desenvolvimento de Plugins para WordPress\"\n",
        "          ]\n",
        "\n",
        "tempos = [95,\n",
        "          25,\n",
        "          35,\n",
        "          85,\n",
        "          75,\n",
        "          150,\n",
        "          140,\n",
        "          120,\n",
        "          85,\n",
        "          335,\n",
        "          160]\n",
        "\n",
        "categorias_do_curso = [\n",
        "  ['wordpress', 'criação de sites'],\n",
        "  ['criação de sites'],\n",
        "  ['e-commerce', 'criação de sites', 'wordpress'],\n",
        "  ['marketing digital', 'vendas'],\n",
        "  ['marketing digital', 'vendas', 'google ads', 'negócios'],\n",
        "  ['marketing digital', 'google ads'],\n",
        "  ['e-commerce', 'vendas', 'negócios'],\n",
        "  ['design', 'negócios'],\n",
        "  ['youtube', 'criação de conteúdo'],\n",
        "  ['marketing digital', 'google ads', 'youtube'],\n",
        "  ['programação', 'wordpress']\n",
        "]\n",
        "\n",
        "gratuidade = [True,\n",
        "              True,\n",
        "              True,\n",
        "              True,\n",
        "              True,\n",
        "              True,\n",
        "              True,\n",
        "              True,\n",
        "              True,\n",
        "              False,\n",
        "              True,]"
      ],
      "execution_count": null,
      "outputs": []
    },
    {
      "cell_type": "code",
      "metadata": {
        "id": "6ZpnQRPCTZfh"
      },
      "source": [
        "# categorias selecionadas\n",
        "categorias_selecionadas = []\n",
        "for n in ncategorias:\n",
        "  categorias_selecionadas.append(categorias[n].upper())\n",
        "\n",
        "print(categorias_selecionadas)"
      ],
      "execution_count": null,
      "outputs": []
    },
    {
      "cell_type": "code",
      "metadata": {
        "id": "NGF2xuxTaX02"
      },
      "source": [
        "print(f\"Olá, {nome}, com base no seu perfil, achamos que você iria gostar dos seguintes cursos:\")\n",
        "for cat in categorias_selecionadas:\n",
        "  print(f\"{cat}:\")\n",
        "  for linha in range(len(cursos)):\n",
        "    if gratuidade[linha] or mostrar_premium:\n",
        "      if (cat.lower() in categorias_do_curso[linha]\n",
        "          and tempos[linha] <= tempo):\n",
        "        print(f\"– {cursos[linha]} ({tempos[linha]} min)\")"
      ],
      "execution_count": null,
      "outputs": []
    },
    {
      "cell_type": "markdown",
      "metadata": {
        "id": "XqinUZIdzXLI"
      },
      "source": [
        "Exemplo de saída:\n",
        "\n",
        "Olá, **Lohan**, com base no seu perfil, achamos que você iria gostar dos seguintes cursos:\n",
        "\n",
        "PROGRAMAÇÃO:\n",
        "\n",
        "– Desenvolvimento de Plugins para WordPress (160 min)\n",
        "\n",
        "YOUTUBE:\n",
        "\n",
        "– Youtube para Iniciantes: como criar e crescer o seu canal (85 min)\n",
        "\n",
        "– Rede de Display e Youtube (335 min)\n",
        "\n"
      ]
    },
    {
      "cell_type": "markdown",
      "metadata": {
        "id": "TRRpbqav4n8C"
      },
      "source": [
        "### Cursos no ColabPlay até o momento\n",
        "\n",
        "| Nome do curso                                             | Duração (min) | Categorias                                      | Gratuito |\n",
        "|-----------------------------------------------------------|-----------------|-------------------------------------------------|----------|\n",
        "| Introdução ao Wordpress                                   | 95              | wordpress, criação de sites                     | Sim      |\n",
        "| Criador de Sites                                          | 25              | criação de sites                                | Sim      |\n",
        "| Introdução ao WooCommerce                                 | 35              | e-commerce, criação de sites, wordpress         | Sim      |\n",
        "| Afiliado de Sucesso                                       | 85              | marketing digital, vendas                       | Sim      |\n",
        "| Venda mais com WhatsApp Business e Google Meu Negócio     | 75              | marketing digital, vendas, google ads, negócios | Sim      |\n",
        "| Introdução ao Google Ads                                  | 150             | marketing digital, google ads                   | Sim      |\n",
        "| E-commerce e Vendas Online                                | 140             | e-commerce, vendas, negócios                    | Sim      |\n",
        "| Canva: Design Fácil para Empreendedores                   | 120             | design, negócios                                | Sim      |\n",
        "| Youtube para Iniciantes: como criar e crescer o seu canal | 85              | youtube, criação de conteúdo                    | Sim      |\n",
        "| Rede de Display e Youtube                                 | 335             | marketing digital, google ads, youtube          | Não      |\n",
        "| Desenvolvimento de Plugins para WordPress                 | 160             | programação, wordpress                          | Sim      |"
      ]
    },
    {
      "cell_type": "markdown",
      "source": [
        "# Strings"
      ],
      "metadata": {
        "id": "LZu7BG01Uhwb"
      }
    },
    {
      "cell_type": "code",
      "source": [
        "nome = \"lOhaN\""
      ],
      "metadata": {
        "id": "lXeomjCbUokb"
      },
      "execution_count": 1,
      "outputs": []
    },
    {
      "cell_type": "code",
      "source": [
        "print(nome.upper())\n",
        "print(nome.lower())\n",
        "print(nome.title())"
      ],
      "metadata": {
        "id": "vnYjODrSUvUW",
        "outputId": "57f9fac2-9f84-485f-8cf3-3cc56e9c94c5",
        "colab": {
          "base_uri": "https://localhost:8080/"
        }
      },
      "execution_count": 2,
      "outputs": [
        {
          "output_type": "stream",
          "name": "stdout",
          "text": [
            "LOHAN\n",
            "lohan\n",
            "Lohan\n"
          ]
        }
      ]
    },
    {
      "cell_type": "code",
      "source": [
        "texto = \"   Ola mundo!   \""
      ],
      "metadata": {
        "id": "a_xrOMshU9SC"
      },
      "execution_count": 11,
      "outputs": []
    },
    {
      "cell_type": "code",
      "source": [
        "print(texto + \".\")\n",
        "print(texto.strip() + \".\")\n",
        "print(texto.rstrip() + \".\")\n",
        "print(texto.lstrip() + \".\")"
      ],
      "metadata": {
        "id": "CxIybTPOVDTZ",
        "outputId": "a94f293d-619c-4171-94d7-d4b543b66e4b",
        "colab": {
          "base_uri": "https://localhost:8080/"
        }
      },
      "execution_count": 15,
      "outputs": [
        {
          "output_type": "stream",
          "name": "stdout",
          "text": [
            "   Ola mundo!   .\n",
            "Ola mundo!.\n",
            "   Ola mundo!.\n",
            "Ola mundo!   .\n"
          ]
        }
      ]
    },
    {
      "cell_type": "code",
      "source": [
        "menu = \"Python\""
      ],
      "metadata": {
        "id": "D5SYaXBSVE-A"
      },
      "execution_count": 17,
      "outputs": []
    },
    {
      "cell_type": "code",
      "source": [
        "print(\"####\" + menu + \"####\")\n",
        "print(menu.center(14))\n",
        "print(menu.center(14, \"#\"))\n",
        "print(\"-\".join(menu))"
      ],
      "metadata": {
        "id": "m86A0L9NWgsM",
        "outputId": "548d2110-0fb9-443d-8b8e-b91791b1fee8",
        "colab": {
          "base_uri": "https://localhost:8080/"
        }
      },
      "execution_count": 22,
      "outputs": [
        {
          "output_type": "stream",
          "name": "stdout",
          "text": [
            "####Python####\n",
            "    Python    \n",
            "####Python####\n",
            "P-y-t-h-o-n\n"
          ]
        }
      ]
    },
    {
      "cell_type": "code",
      "source": [],
      "metadata": {
        "id": "Bz9jL8_aW992"
      },
      "execution_count": null,
      "outputs": []
    }
  ]
}