{
  "nbformat": 4,
  "nbformat_minor": 0,
  "metadata": {
    "colab": {
      "provenance": [],
      "authorship_tag": "ABX9TyM2NzgyktuuF7FsnzTGfq+q",
      "include_colab_link": true
    },
    "kernelspec": {
      "name": "python3",
      "display_name": "Python 3"
    },
    "language_info": {
      "name": "python"
    }
  },
  "cells": [
    {
      "cell_type": "markdown",
      "metadata": {
        "id": "view-in-github",
        "colab_type": "text"
      },
      "source": [
        "<a href=\"https://colab.research.google.com/github/lohansilva/logica-de-programacao-python/blob/main/POO_Python.ipynb\" target=\"_parent\"><img src=\"https://colab.research.google.com/assets/colab-badge.svg\" alt=\"Open In Colab\"/></a>"
      ]
    },
    {
      "cell_type": "markdown",
      "source": [
        "# O que é encapsulamento?"
      ],
      "metadata": {
        "id": "Sv268SiGR3RX"
      }
    },
    {
      "cell_type": "markdown",
      "source": [
        "O encapsulamento é um dos conceitos fundamentais em programação orientada a objetos. Ele descreve a ideia de agrupar dados e os métodos que manipulam esses dados em uma unidade. Isso impõe restrições ao acesso direto a variáveis e métodos e pode evitar a modificação acidental de dados.\n",
        "PAra evitar alterações acidentais, a variável de um objeto só pode ser alterada pelo método desse objeto."
      ],
      "metadata": {
        "id": "mfYzM6KdSHTO"
      }
    },
    {
      "cell_type": "code",
      "execution_count": null,
      "metadata": {
        "id": "FTLUvWT3Ry99"
      },
      "outputs": [],
      "source": []
    }
  ]
}